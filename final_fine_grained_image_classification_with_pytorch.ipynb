{
  "cells": [
    {
      "cell_type": "markdown",
      "metadata": {
        "id": "6knIlJ21wTAa"
      },
      "source": [
        "# Fine Grained Image Classification"
      ]
    },
    {
      "cell_type": "markdown",
      "metadata": {
        "id": "0b8maqBowTAd"
      },
      "source": [
        "## Importing Modules and Fixing Seeds"
      ]
    },
    {
      "cell_type": "code",
      "execution_count": 47,
      "metadata": {
        "colab": {
          "base_uri": "https://localhost:8080/"
        },
        "id": "s1lU_CeqwTAd",
        "outputId": "3550eb2b-e3f1-407a-b690-a4b5ef060428"
      },
      "outputs": [
        {
          "output_type": "stream",
          "name": "stdout",
          "text": [
            "Looking in indexes: https://pypi.org/simple, https://us-python.pkg.dev/colab-wheels/public/simple/\n",
            "Requirement already satisfied: torchsummary in /usr/local/lib/python3.7/dist-packages (1.5.1)\n",
            "dog-breed-identification.zip: Skipping, found more recently modified local copy (use --force to force download)\n",
            "done\n"
          ]
        }
      ],
      "source": [
        "!pip install torchsummary\n",
        "%matplotlib inline\n",
        "\n",
        "import pandas as pd\n",
        "import numpy as np\n",
        "import matplotlib.pyplot as plt\n",
        "import time\n",
        "import random\n",
        "import os\n",
        "from PIL import Image\n",
        "\n",
        "import torch\n",
        "from torchsummary import summary\n",
        "from torch import nn, optim\n",
        "from torch.functional import F\n",
        "from torch.utils.data import DataLoader, Dataset\n",
        "from torchvision import transforms\n",
        "from torch.autograd import Variable\n",
        "\n",
        "\n",
        "SEED = 1234\n",
        "\n",
        "random.seed(SEED)\n",
        "np.random.seed(SEED)\n",
        "torch.manual_seed(SEED)\n",
        "torch.cuda.manual_seed(SEED)\n",
        "torch.backends.cudnn.deterministic = True\n",
        "\n",
        "device = torch.device('cuda:0' if torch.cuda.is_available() else 'cpu')\n",
        "\n",
        "\n",
        "import os\n",
        "os.environ['KAGGLE_USERNAME'] = \"eitansharabi\" #kaggle username\n",
        "os.environ['KAGGLE_KEY'] = \"fa2369efb52bae86402ea915d41066ef\" #kaggle key\n",
        "!kaggle competitions download -c dog-breed-identification\n",
        "\n",
        "#Upload data and extract the contents\n",
        "from zipfile import ZipFile\n",
        "file_name = \"/content/dog-breed-identification.zip\"\n",
        "with ZipFile(file_name, 'r') as zip:\n",
        " zip.extractall()\n",
        " print('done')\n",
        "\n",
        "data_dir = ''\n",
        "labels = pd.read_csv(os.path.join(data_dir, 'labels.csv'))\n",
        "assert(len(os.listdir(os.path.join(data_dir, 'train'))) == len(labels))\n",
        "labels.head()\n",
        "\n",
        "\n",
        "\n",
        "\n",
        "from sklearn.model_selection import train_test_split\n",
        "\n",
        "X_train, X_valid, y_train, y_valid = train_test_split(X, y,test_size=0.4, random_state=SEED, stratify=y)\n",
        "X_valid, X_test, y_valid, y_test = train_test_split(X_valid, y_valid, test_size=0.5, random_state=SEED, stratify=y_valid)\n",
        "\n",
        "\n",
        "class Dataset_Interpreter(Dataset):\n",
        "    def __init__(self, data_path, file_names, labels=None, transforms=None):\n",
        "        self.data_path = data_path\n",
        "        self.file_names = file_names\n",
        "        self.labels = labels\n",
        "        self.transforms = transforms\n",
        "        \n",
        "    def __len__(self):\n",
        "        return (len(self.file_names))\n",
        "    \n",
        "    def __getitem__(self, idx):\n",
        "        img_name = f'{self.file_names.iloc[idx]}.jpg'\n",
        "        full_address = os.path.join(self.data_path, img_name)\n",
        "        image = Image.open(full_address)\n",
        "        label = self.labels.iloc[idx]\n",
        "        \n",
        "        if self.transforms is not None:\n",
        "            image = self.transforms(image)\n",
        "            \n",
        "        return np.array(image), label\n",
        "\n",
        "from sklearn.preprocessing import LabelEncoder\n",
        "le = LabelEncoder()\n",
        "labels.breed = le.fit_transform(labels.breed)\n",
        "labels.head()\n",
        "X = labels.id\n",
        "y = labels.breed\n",
        "\n",
        "def epoch_time(start_time, end_time):\n",
        "    elapsed_time = end_time - start_time\n",
        "    elapsed_mins = int(elapsed_time / 60)\n",
        "    elapsed_secs = int(elapsed_time - (elapsed_mins * 60))\n",
        "    return elapsed_mins, elapsed_secs\n",
        "\n",
        "def calculate_accuracy(y_pred, y):\n",
        "    top_pred = y_pred.argmax(1, keepdim = True)\n",
        "    correct = top_pred.eq(y.view_as(top_pred)).sum()\n",
        "    acc = correct.float() / y.shape[0]\n",
        "    return acc\n",
        "\n",
        "def plot_training_statistics(train_stats, model_name):\n",
        "    \n",
        "    fig, axes = plt.subplots(2, figsize=(15,15))\n",
        "    axes[0].plot(train_stats[f'{model_name}_Training_Loss'], label=f'{model_name}_Training_Loss')\n",
        "    axes[0].plot(train_stats[f'{model_name}_Validation_Loss'], label=f'{model_name}_Validation_Loss')\n",
        "    axes[1].plot(train_stats[f'{model_name}_Training_Acc'], label=f'{model_name}_Training_Acc')\n",
        "    axes[1].plot(train_stats[f'{model_name}_Validation_Acc'], label=f'{model_name}_Validation_Acc')\n",
        "    \n",
        "    axes[0].set_xlabel(\"Number of Epochs\"), axes[0].set_ylabel(\"Loss\")\n",
        "    axes[1].set_xlabel(\"Number of Epochs\"), axes[1].set_ylabel(\"Accuracy in %\")\n",
        "    \n",
        "    axes[0].legend(), axes[1].legend()\n"
      ]
    },
    {
      "cell_type": "code",
      "execution_count": 48,
      "metadata": {
        "id": "P3w6IY7mwTAm"
      },
      "outputs": [],
      "source": [
        "def train(model, iterator, optimizer, criterion, device):\n",
        "    \n",
        "    epoch_loss = 0\n",
        "    epoch_acc = 0\n",
        "    \n",
        "    model.train()\n",
        "    \n",
        "    for (x, y) in iterator:\n",
        "        \n",
        "        x = Variable(torch.FloatTensor(np.array(x))).to(device)\n",
        "        y = Variable(torch.LongTensor(y)).to(device)\n",
        "        \n",
        "        optimizer.zero_grad()\n",
        "                \n",
        "        y_pred, _ = model(x)\n",
        "        \n",
        "        loss = criterion(y_pred, y)\n",
        "        \n",
        "        acc = calculate_accuracy(y_pred, y)\n",
        "        \n",
        "        loss.backward()\n",
        "        \n",
        "        optimizer.step()\n",
        "        \n",
        "        epoch_loss += loss.item()\n",
        "        epoch_acc += acc.item()\n",
        "        \n",
        "    return epoch_loss / len(iterator), epoch_acc / len(iterator)"
      ]
    },
    {
      "cell_type": "code",
      "execution_count": 49,
      "metadata": {
        "id": "MsTxmZ83wTAn"
      },
      "outputs": [],
      "source": [
        "def evaluate(model, iterator, criterion, device):\n",
        "    \n",
        "    epoch_loss = 0\n",
        "    epoch_acc = 0\n",
        "    \n",
        "    model.eval()\n",
        "    \n",
        "    with torch.no_grad():\n",
        "        \n",
        "        for (x, y) in iterator:\n",
        "\n",
        "            x = Variable(torch.FloatTensor(np.array(x))).to(device)\n",
        "            y = Variable(torch.LongTensor(y)).to(device)\n",
        "        \n",
        "            y_pred = model(x)\n",
        "\n",
        "            loss = criterion(y_pred, y)\n",
        "\n",
        "            acc = calculate_accuracy(y_pred, y)\n",
        "\n",
        "            epoch_loss += loss.item()\n",
        "            epoch_acc += acc.item()\n",
        "        \n",
        "    return epoch_loss / len(iterator), epoch_acc / len(iterator)"
      ]
    },
    {
      "cell_type": "code",
      "execution_count": 50,
      "metadata": {
        "id": "Pc7t3tM1wTAn"
      },
      "outputs": [],
      "source": [
        "def fit_model(model, model_name, train_iterator, valid_iterator, optimizer, loss_criterion, device, epochs):\n",
        "    \"\"\" Fits a dataset to model\"\"\"\n",
        "    best_valid_loss = float('inf')\n",
        "    \n",
        "    train_losses = []\n",
        "    valid_losses = []\n",
        "    train_accs = []\n",
        "    valid_accs = []\n",
        "    \n",
        "    for epoch in range(epochs):\n",
        "    \n",
        "        start_time = time.time()\n",
        "    \n",
        "        train_loss, train_acc = train(model, train_iterator, optimizer, loss_criterion, device)\n",
        "        valid_loss, valid_acc = evaluate(model, valid_iterator, loss_criterion, device)\n",
        "        \n",
        "        train_losses.append(train_loss)\n",
        "        valid_losses.append(valid_loss)\n",
        "        train_accs.append(train_acc*100)\n",
        "        valid_accs.append(valid_acc*100)\n",
        "    \n",
        "        if valid_loss < best_valid_loss:\n",
        "            best_valid_loss = valid_loss\n",
        "            torch.save(model.state_dict(), f'{model_name}.pt')\n",
        "    \n",
        "        end_time = time.time()\n",
        "\n",
        "        epoch_mins, epoch_secs = epoch_time(start_time, end_time)\n",
        "    \n",
        "        print(f'Epoch: {epoch+1:02} | Epoch Time: {epoch_mins}m {epoch_secs}s')\n",
        "        print(f'\\tTrain Loss: {train_loss:.3f} | Train Acc: {train_acc*100:.2f}%')\n",
        "        print(f'\\t Val. Loss: {valid_loss:.3f} |  Val. Acc: {valid_acc*100:.2f}%')\n",
        "\n",
        "        \n",
        "    return pd.DataFrame({f'{model_name}_Training_Loss':train_losses, \n",
        "                        f'{model_name}_Training_Acc':train_accs, \n",
        "                        f'{model_name}_Validation_Loss':valid_losses, \n",
        "                        f'{model_name}_Validation_Acc':valid_accs})"
      ]
    },
    {
      "cell_type": "code",
      "execution_count": 51,
      "metadata": {
        "id": "dNxbWeX_wTAp",
        "colab": {
          "base_uri": "https://localhost:8080/"
        },
        "outputId": "ee10607e-533d-41f8-ede8-8c7552189e9c"
      },
      "outputs": [
        {
          "output_type": "stream",
          "name": "stderr",
          "text": [
            "/usr/local/lib/python3.7/dist-packages/torchvision/models/_utils.py:209: UserWarning: The parameter 'pretrained' is deprecated since 0.13 and will be removed in 0.15, please use 'weights' instead.\n",
            "  f\"The parameter '{pretrained_param}' is deprecated since 0.13 and will be removed in 0.15, \"\n",
            "/usr/local/lib/python3.7/dist-packages/torchvision/models/_utils.py:223: UserWarning: Arguments other than a weight enum or `None` for 'weights' are deprecated since 0.13 and will be removed in 0.15. The current behavior is equivalent to passing `weights=Inception_V3_Weights.IMAGENET1K_V1`. You can also use `weights=Inception_V3_Weights.DEFAULT` to get the most up-to-date weights.\n",
            "  warnings.warn(msg)\n"
          ]
        }
      ],
      "source": [
        "from torchvision import models\n",
        "model = models.inception_v3(pretrained=True).to(device)\n",
        "loss_criterion = nn.CrossEntropyLoss().to(device)\n",
        "optimizer=optim.Adam(model.parameters())"
      ]
    },
    {
      "cell_type": "code",
      "execution_count": 52,
      "metadata": {
        "id": "9CM8JpkVwTAx"
      },
      "outputs": [],
      "source": [
        "for name, param in model.named_parameters():\n",
        "    param.requires_grad = False"
      ]
    },
    {
      "cell_type": "code",
      "execution_count": 53,
      "metadata": {
        "id": "A5dMtr2qwTAx"
      },
      "outputs": [],
      "source": [
        "classifier = nn.Sequential(\n",
        "            nn.Linear(model.fc.in_features, 120)\n",
        "        )\n",
        "model.fc = classifier.to(device)\n",
        "\n",
        "optimizer = optim.Adam(model.parameters(), lr = 0.005)"
      ]
    },
    {
      "cell_type": "code",
      "execution_count": 55,
      "metadata": {
        "id": "MFQY3sCrwTAx"
      },
      "outputs": [],
      "source": [
        "normalize = transforms.Normalize(\n",
        "   mean=[0.485, 0.456, 0.406],\n",
        "   std=[0.229, 0.224, 0.225]\n",
        ")\n",
        "transforms.ColorJitter(brightness=0, contrast=0, saturation=0, hue=0)\n",
        "train_transforms = transforms.Compose([transforms.Resize(299),\n",
        "                               transforms.CenterCrop(299),\n",
        "                               transforms.ColorJitter(brightness=0, contrast=0, saturation=0, hue=0),\n",
        "                               transforms.RandomHorizontalFlip(p=0.5),\n",
        "                               transforms.RandomVerticalFlip(p=0.5),\n",
        "                               transforms.RandomGrayscale(p=0.1), \n",
        "                               transforms.ToTensor(),\n",
        "                               normalize])\n",
        "test_transforms = transforms.Compose([transforms.Resize(299),\n",
        "                               transforms.CenterCrop(299),\n",
        "                               transforms.ToTensor(),\n",
        "                               normalize])\n",
        "\n",
        "train_data = Dataset_Interpreter(data_path=data_dir+'train/', file_names=X_train, labels=y_train, transforms=train_transforms)\n",
        "valid_data = Dataset_Interpreter(data_path=data_dir+'train/', file_names=X_valid, labels=y_valid, transforms=test_transforms)\n",
        "test_data = Dataset_Interpreter(data_path=data_dir+'train/', file_names=X_test, labels=y_test, transforms=test_transforms)\n",
        "\n",
        "BATCH_SIZE = 64\n",
        "\n",
        "train_iterator = DataLoader(train_data, shuffle=True, batch_size= BATCH_SIZE)\n",
        "valid_iterator = DataLoader(valid_data, batch_size=BATCH_SIZE)\n",
        "test_iterator = DataLoader(test_data, batch_size = BATCH_SIZE)"
      ]
    },
    {
      "cell_type": "code",
      "execution_count": 56,
      "metadata": {
        "id": "o_KbZc3LwTAy",
        "outputId": "edb25eb1-6614-41d0-d0b5-323086535676",
        "colab": {
          "base_uri": "https://localhost:8080/",
          "height": 981
        }
      },
      "outputs": [
        {
          "output_type": "stream",
          "name": "stdout",
          "text": [
            "Epoch: 01 | Epoch Time: 1m 27s\n",
            "\tTrain Loss: 3.212 | Train Acc: 35.12%\n",
            "\t Val. Loss: 0.625 |  Val. Acc: 81.93%\n",
            "Epoch: 02 | Epoch Time: 1m 28s\n",
            "\tTrain Loss: 2.043 | Train Acc: 53.99%\n",
            "\t Val. Loss: 0.584 |  Val. Acc: 82.22%\n"
          ]
        },
        {
          "output_type": "display_data",
          "data": {
            "text/plain": [
              "<Figure size 1080x1080 with 2 Axes>"
            ],
            "image/png": "[encoded data removed]"
          },
          "metadata": {
            "needs_background": "light"
          }
        }
      ],
      "source": [
        "training_results = fit_model(model, 'inception_v3', train_iterator, valid_iterator, optimizer, loss_criterion, device, epochs=2)\n",
        "plot_training_statistics(training_results, 'inception_v3')"
      ]
    },
    {
      "cell_type": "code",
      "execution_count": 57,
      "metadata": {
        "id": "4XuVHRmwwTAy"
      },
      "outputs": [],
      "source": [
        "torch.save(model.state_dict(), f'inception_v3.pt')"
      ]
    },
    {
      "cell_type": "code",
      "execution_count": null,
      "metadata": {
        "colab": {
          "base_uri": "https://localhost:8080/"
        },
        "id": "o9qk67swwTAy",
        "outputId": "3e7318d2-ff1c-4541-c0b6-28ef140b82c8"
      },
      "outputs": [
        {
          "output_type": "stream",
          "name": "stdout",
          "text": [
            "0.851344743188844\n"
          ]
        }
      ],
      "source": [
        "state_dict = torch.load('inception_v3.pt')\n",
        "model.load_state_dict(state_dict)\n",
        "def test(model, test_loader, criterion):\n",
        "    with torch.no_grad():\n",
        "        model.eval()\n",
        "        test_acc = 0\n",
        "        for data, label in test_loader:\n",
        "            data, label = data.cuda(), label.cuda()\n",
        "\n",
        "            output = model(data)\n",
        "\n",
        "            _, pred = torch.max(output, dim=1)\n",
        "            correct_tensor = pred.eq(label.data.view_as(pred))\n",
        "            accuracy = torch.mean(correct_tensor.type(torch.FloatTensor))\n",
        "            test_acc += accuracy.item() * data.size(0)\n",
        "\n",
        "        test_acc = test_acc / len(test_loader.dataset)\n",
        "        return test_acc\n",
        "\n",
        "test_accuracy = test(model, test_iterator, loss_criterion)\n",
        "print(test_accuracy)"
      ]
    }
  ],
  "metadata": {
    "accelerator": "GPU",
    "colab": {
      "collapsed_sections": [],
      "provenance": [],
      "machine_shape": "hm"
    },
    "gpuClass": "standard",
    "kernelspec": {
      "display_name": "Python 3",
      "language": "python",
      "name": "python3"
    },
    "language_info": {
      "codemirror_mode": {
        "name": "ipython",
        "version": 3
      },
      "file_extension": ".py",
      "mimetype": "text/x-python",
      "name": "python",
      "nbconvert_exporter": "python",
      "pygments_lexer": "ipython3",
      "version": "3.6.6"
    }
  },
  "nbformat": 4,
  "nbformat_minor": 0
}